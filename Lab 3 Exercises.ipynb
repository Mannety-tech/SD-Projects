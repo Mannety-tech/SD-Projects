{
 "cells": [
  {
   "cell_type": "code",
   "execution_count": 9,
   "id": "4ea1027f",
   "metadata": {},
   "outputs": [
    {
     "name": "stdout",
     "output_type": "stream",
     "text": [
      "Enter a number, any number: 7\n",
      "Now add 1...\n",
      "You now have 1... \n",
      "Double it...\n",
      "You now have 2... \n",
      "Now add 4...\n",
      "You now have 4... \n",
      "Now divide by 2...\n",
      "You now have 2.0... \n",
      "Now take away the number you first thought of...\n",
      "You now have three : -7\n"
     ]
    }
   ],
   "source": [
    "userNumber = int(input(\"Enter a number, any number: \"))\n",
    "startNumber = userNumber\n",
    "\n",
    "print(\"Now add 1...\") \n",
    "userNumber = userNumber =+ 1  #Number 1 is added to the user input \n",
    "print(f\"You now have { userNumber }... \")\n",
    "\n",
    "print(\"Double it...\")\n",
    "userNumber = userNumber * 2 # user input is multiplied \n",
    "print(f\"You now have { userNumber }... \")\n",
    "\n",
    "print(\"Now add 4...\")\n",
    "userNumber = userNumber =+ 4     # 4 is added to the user input\n",
    "print(f\"You now have { userNumber }... \")\n",
    "\n",
    "print(\"Now divide by 2...\")   # 2 is added to the user input\n",
    "userNumber = userNumber / 2\n",
    "print(f\"You now have { userNumber }... \")\n",
    "\n",
    "print(\"Now take away the number you first thought of...\")  # subtract 7 your first input\n",
    "userNumber = userNumber =- startNumber\n",
    "print(f\"You now have three : { userNumber }\")\n"
   ]
  },
  {
   "cell_type": "code",
   "execution_count": 52,
   "id": "9514566f",
   "metadata": {},
   "outputs": [
    {
     "name": "stdout",
     "output_type": "stream",
     "text": [
      "Enter your age: 15\n",
      "You are a teenager\n"
     ]
    }
   ],
   "source": [
    "age = int(input( \"Enter your age: \" )) # user input of their age\n",
    "\n",
    "if (age >= 20 and age <= 29):         \n",
    "    print(\"You are in your twenties\")   # user age if between 20 and 29 years old they are in their twenties\n",
    "    \n",
    "    \n",
    "elif(age >= 13 and age <=19):  # user input is between 13 and 19 years old\n",
    "    print(\"You are a teenager\")\n",
    "    \n",
    "elif(age >=30 and age <=39):   # user input is between 30 and 39 years old\n",
    "    print(\"You are in your thirties\")\n",
    "    \n",
    "elif (age >= 40 and age <=49):   #user input is between 40 and 49 years old \n",
    "      print(\"You are in your forties\")\n",
    "        \n",
    "else: \n",
    "    print(\"You are not in your twenties\")   #if user input is not the range between 20 and 29 it will display not in their twenties."
   ]
  },
  {
   "cell_type": "code",
   "execution_count": 64,
   "id": "b3686610",
   "metadata": {},
   "outputs": [
    {
     "name": "stdout",
     "output_type": "stream",
     "text": [
      "1, 2, 3, 4, 5, 6, 7, 8, 9, 10, "
     ]
    }
   ],
   "source": [
    "counter = 1    #while loop count from 1 to 10\n",
    "while (counter <= 10):\n",
    "    print( counter ,   end=', ' )\n",
    "    counter+=1\n",
    "   \n",
    "       \n",
    " \n",
    "   \n",
    "    \n"
   ]
  },
  {
   "cell_type": "code",
   "execution_count": 49,
   "id": "5dc681a5",
   "metadata": {},
   "outputs": [
    {
     "name": "stdout",
     "output_type": "stream",
     "text": [
      "0, 2, 4, 6, 8, 10, 12, 14, 16, 18, 20, 22, 24, 26, 28, 30, 32, 34, 36, 38, 40, 42, 44, 46, 48, 50, 52, 54, 56, 58, 60, 62, 64, 66, 68, 70, 72, 74, 76, 78, 80, 82, 84, 86, 88, 90, 92, 94, 96, 98, 100, "
     ]
    }
   ],
   "source": [
    "counter = 0  # while loop even numbers separated by commas\n",
    "while (counter <= 100):\n",
    "    print( counter ,   end=', ' )\n",
    "    counter+= 2\n",
    "     \n",
    "  "
   ]
  },
  {
   "cell_type": "code",
   "execution_count": 45,
   "id": "3b79b6c7",
   "metadata": {},
   "outputs": [
    {
     "name": "stdout",
     "output_type": "stream",
     "text": [
      "0, \n",
      "\n",
      "2, \n",
      "\n",
      "4, \n",
      "\n",
      "6, \n",
      "\n",
      "8, \n",
      "\n",
      "10, \n",
      "\n",
      "12, \n",
      "\n",
      "14, \n",
      "\n",
      "16, \n",
      "\n",
      "18, \n",
      "\n",
      "20, \n",
      "\n",
      "22, \n",
      "\n",
      "24, \n",
      "\n",
      "26, \n",
      "\n",
      "28, \n",
      "\n",
      "30, \n",
      "\n",
      "32, \n",
      "\n",
      "34, \n",
      "\n",
      "36, \n",
      "\n",
      "38, \n",
      "\n",
      "40, \n",
      "\n",
      "42, \n",
      "\n",
      "44, \n",
      "\n",
      "46, \n",
      "\n",
      "48, \n",
      "\n",
      "50, \n",
      "\n",
      "52, \n",
      "\n",
      "54, \n",
      "\n",
      "56, \n",
      "\n",
      "58, \n",
      "\n",
      "60, \n",
      "\n",
      "62, \n",
      "\n",
      "64, \n",
      "\n",
      "66, \n",
      "\n",
      "68, \n",
      "\n",
      "70, \n",
      "\n",
      "72, \n",
      "\n",
      "74, \n",
      "\n",
      "76, \n",
      "\n",
      "78, \n",
      "\n",
      "80, \n",
      "\n",
      "82, \n",
      "\n",
      "84, \n",
      "\n",
      "86, \n",
      "\n",
      "88, \n",
      "\n",
      "90, \n",
      "\n",
      "92, \n",
      "\n",
      "94, \n",
      "\n",
      "96, \n",
      "\n",
      "98, \n",
      "\n",
      "100, \n",
      "\n"
     ]
    }
   ],
   "source": [
    "counter = 0  #\n",
    "while (counter <= 100):\n",
    "    print( counter ,   end=', ' )\n",
    "    counter+=2\n",
    "    print(\"\\n\")   #while loop in new lines\n",
    "  \n"
   ]
  },
  {
   "cell_type": "code",
   "execution_count": 44,
   "id": "e2817699",
   "metadata": {
    "scrolled": true
   },
   "outputs": [
    {
     "name": "stdout",
     "output_type": "stream",
     "text": [
      "100, 98, 96, 94, 92, 90, 88, 86, 84, 82, 80, 78, 76, 74, 72, 70, 68, 66, 64, 62, 60, 58, 56, 54, 52, 50, 48, 46, 44, 42, 40, 38, 36, 34, 32, 30, 28, 26, 24, 22, 20, 18, 16, 14, 12, 10, 8, 6, 4, 2, 0, "
     ]
    }
   ],
   "source": [
    "counter = 100    # while loop in reverse orders from 100 to 0\n",
    "while (counter >= 0):\n",
    "    print( counter ,   end=', ' )\n",
    "    counter-=2"
   ]
  },
  {
   "cell_type": "code",
   "execution_count": null,
   "id": "276c56f3",
   "metadata": {},
   "outputs": [],
   "source": []
  },
  {
   "cell_type": "code",
   "execution_count": null,
   "id": "a6ac0659",
   "metadata": {},
   "outputs": [],
   "source": []
  }
 ],
 "metadata": {
  "kernelspec": {
   "display_name": "Python 3 (ipykernel)",
   "language": "python",
   "name": "python3"
  },
  "language_info": {
   "codemirror_mode": {
    "name": "ipython",
    "version": 3
   },
   "file_extension": ".py",
   "mimetype": "text/x-python",
   "name": "python",
   "nbconvert_exporter": "python",
   "pygments_lexer": "ipython3",
   "version": "3.11.5"
  }
 },
 "nbformat": 4,
 "nbformat_minor": 5
}
