{
 "cells": [
  {
   "cell_type": "code",
   "execution_count": 36,
   "id": "a557e2fa",
   "metadata": {},
   "outputs": [
    {
     "name": "stdout",
     "output_type": "stream",
     "text": [
      "Enter the item price: 45\n",
      "Tax on the item is 8.5\n",
      "Total item price is 53.5\n"
     ]
    }
   ],
   "source": [
    "itemPrice = float(input(\"Enter the item price: \")) #get the item price as input from the user and convert it to a floating-point number\n",
    "itemTax = 8.5    #item tax is defined\n",
    "totalPrice = itemPrice + itemTax\n",
    "\n",
    "print(\"Tax on the item is\", itemTax)\n",
    "print(\"Total item price is\", totalPrice)\n"
   ]
  },
  {
   "cell_type": "code",
   "execution_count": 37,
   "id": "538b317f",
   "metadata": {},
   "outputs": [
    {
     "name": "stdout",
     "output_type": "stream",
     "text": [
      "Enter the item price: 56\n",
      "Tax on the item is 11.200000000000001\n",
      "Total item price is 67.2\n"
     ]
    }
   ],
   "source": [
    "itemPrice = float(input(\"Enter the item price: \"))\n",
    "itemTax =  0.2 * itemPrice #calculate the tax amount as 20% of item price\n",
    "totalPrice = itemPrice + itemTax\n",
    "\n",
    "print(\"Tax on the item is\", itemTax)\n",
    "print(\"Total item price is\", totalPrice)"
   ]
  },
  {
   "cell_type": "code",
   "execution_count": 22,
   "id": "679c647e",
   "metadata": {},
   "outputs": [
    {
     "name": "stdout",
     "output_type": "stream",
     "text": [
      "How many items do you want to buy?68\n",
      "The price for number of item 68 is 408.0\n"
     ]
    }
   ],
   "source": [
    "item = int(input(\"How many items do you want to buy?\"))\n",
    "totalCost = item * totalPrice\n",
    "print(\"The price for number of item %s is %s\" %(item,totalCost))  \n",
    "\n"
   ]
  },
  {
   "cell_type": "code",
   "execution_count": 34,
   "id": "168ab790",
   "metadata": {},
   "outputs": [
    {
     "name": "stdout",
     "output_type": "stream",
     "text": [
      "Enter the year you were born: 2009\n",
      "You weren't born in the same year as me!\n"
     ]
    }
   ],
   "source": [
    "year = int(input(\"Enter the year you were born: \"))\n",
    "\n",
    "if (year % 4) == 0: #leap year is completely divisible by 4\n",
    "    if(year % 100) == 0:  #century year check\n",
    "        if(year % 400) == 0: #century year is a leap year if divisible by 400\n",
    "            print(\"You were born in a leap year\")\n",
    "\n",
    "        else:\n",
    "            print(\"You were not born in a leap year\")\n",
    "    \n",
    "    else: \n",
    "        print(\"You were born in the same year as me!\")\n",
    "\n",
    "else:\n",
    "    print(\"You weren't born in the same year as me!\")\n"
   ]
  },
  {
   "cell_type": "code",
   "execution_count": null,
   "id": "982ec560",
   "metadata": {},
   "outputs": [],
   "source": []
  },
  {
   "cell_type": "code",
   "execution_count": null,
   "id": "9474751f",
   "metadata": {},
   "outputs": [],
   "source": []
  }
 ],
 "metadata": {
  "kernelspec": {
   "display_name": "Python 3 (ipykernel)",
   "language": "python",
   "name": "python3"
  },
  "language_info": {
   "codemirror_mode": {
    "name": "ipython",
    "version": 3
   },
   "file_extension": ".py",
   "mimetype": "text/x-python",
   "name": "python",
   "nbconvert_exporter": "python",
   "pygments_lexer": "ipython3",
   "version": "3.11.5"
  }
 },
 "nbformat": 4,
 "nbformat_minor": 5
}
